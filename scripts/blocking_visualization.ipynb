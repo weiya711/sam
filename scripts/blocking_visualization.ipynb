{
 "cells": [
  {
   "cell_type": "code",
   "execution_count": 9,
   "id": "39e5707c",
   "metadata": {},
   "outputs": [],
   "source": [
    "import pandas as pd\n",
    "import matplotlib.pyplot as plt \n",
    "import tqdm\n",
    "import argparse\n",
    "import os\n",
    "import dataclasses\n",
    "import numpy\n",
    "\n",
    "from pathlib import Path\n",
    "from util import FormatWriter\n",
    "\n",
    "from util import TensorCollectionSuiteSparse, ScipyTensorShifter, \\\n",
    "    ScipyMatrixMarketTensorLoader, SuiteSparseTensor, safeCastScipyTensorToInts, DoublyCompressedMatrix\n"
   ]
  },
  {
   "cell_type": "code",
   "execution_count": 10,
   "id": "3f0c8912",
   "metadata": {},
   "outputs": [],
   "source": [
    "SS_PATH = os.getenv('SUITESPARSE_PATH')\n",
    "\n",
    "ssMtx = dataclasses.make_dataclass(\"SS\", [(\"name\", str), (\"nnz\", int),\n",
    "                                          (\"dim1\", int), (\"dim2\", int),\n",
    "                                          (\"sparsity\", float), (\"seg_size\", int),\n",
    "                                          (\"crd_size\", int)])\n",
    "\n",
    "fiber_data = dataclasses.make_dataclass(\"FIBER\", [(\"name\", str), (\"dcsr0\", int),\n",
    "                                          (\"dcsr1\", [int]), (\"dcsc0\", int),\n",
    "                                          (\"dcsc1\", [int]), ])\n"
   ]
  },
  {
   "cell_type": "code",
   "execution_count": 11,
   "id": "09db0db9",
   "metadata": {},
   "outputs": [
    {
     "name": "stdout",
     "output_type": "stream",
     "text": [
      "/nobackup/owhsu/sparse-datasets/suitesparse/\n"
     ]
    }
   ],
   "source": [
    "print(SS_PATH)"
   ]
  },
  {
   "cell_type": "code",
   "execution_count": 12,
   "id": "74d47eef",
   "metadata": {},
   "outputs": [],
   "source": [
    "# UfuncInputCache attempts to avoid reading the same tensor from disk multiple\n",
    "# times in a benchmark run.\n",
    "class UfuncInputCache:\n",
    "    def __init__(self):\n",
    "        self.lastLoaded = None\n",
    "        self.lastName = None\n",
    "        self.tensor = None\n",
    "        self.other = None\n",
    "\n",
    "        self.shifter = ScipyTensorShifter()\n",
    "\n",
    "    def load(self, tensor, suitesparse, cast):\n",
    "        if self.lastName == str(tensor):\n",
    "            return self.tensor, self.other\n",
    "        else:\n",
    "            if suitesparse:\n",
    "                self.lastLoaded = tensor.load(ScipyMatrixMarketTensorLoader())\n",
    "            else:\n",
    "                self.lastLoaded = tensor.load()\n",
    "            self.lastName = str(tensor)\n",
    "            if cast:\n",
    "                self.tensor = safeCastScipyTensorToInts(self.lastLoaded)\n",
    "            else:\n",
    "                self.tensor = self.lastLoaded\n",
    "\n",
    "            self.other = self.shifter.shiftLastMode(self.lastLoaded)\n",
    "\n",
    "            return self.tensor, self.other\n",
    "\n",
    "\n",
    "inputCache = UfuncInputCache()"
   ]
  },
  {
   "cell_type": "code",
   "execution_count": 5,
   "id": "a884f208",
   "metadata": {},
   "outputs": [],
   "source": [
    "\n",
    "def fiber_stats(ss_tensor, tensor_coo, other_coo, show=False):\n",
    "    print(\"Getting fiber stats...\")\n",
    "    formatWriter = FormatWriter(True)\n",
    "    dcsr = formatWriter.convert_format(tensor_coo, \"dcsr\")\n",
    "    dcsc = formatWriter.convert_format(tensor_coo, \"dcsc\")\n",
    "\n",
    "    fiber_data_list = {}\n",
    "    fiber_data_list['dcsr0'] = [dcsr.seg0[x + 1] - dcsr.seg0[x] for x in range(len(dcsr.seg0)-1)][0]\n",
    "    fiber_data_list['dcsr1'] = [dcsr.seg1[x + 1] - dcsr.seg1[x] for x in range(len(dcsr.seg1)-1)]\n",
    "    fiber_data_list['dcsc0'] = [dcsc.seg0[x + 1] - dcsc.seg0[x] for x in range(len(dcsc.seg0)-1)][0]\n",
    "    fiber_data_list['dcsc1'] = [dcsc.seg1[x + 1] - dcsc.seg1[x] for x in range(len(dcsc.seg1)-1)]\n",
    "\n",
    "    if show:\n",
    "        fig, axes = plt.subplots(nrows=2, ncols=2, figsize=(10, 10))\n",
    "        counter = 0\n",
    "        for i in range(2):\n",
    "            for j in range(2):\n",
    "\n",
    "                ax = axes[i][j]\n",
    "\n",
    "                # Plot when we have data\n",
    "                if counter < len(fiber_data_list):\n",
    "\n",
    "                    key = sorted(list(fiber_data_list.keys()))[counter]\n",
    "                    ax.hist(fiber_data_list[key], color='blue', alpha=0.5,\n",
    "                            label='{}'.format(counter))\n",
    "\n",
    "                # Remove axis when we no longer have data\n",
    "                else:\n",
    "                    ax.set_axis_off()\n",
    "\n",
    "                counter += 1\n",
    "\n",
    "        plt.show()\n",
    "\n",
    "    return fiber_data(ss_tensor, **fiber_data_list)\n",
    "\n",
    "def run_mtx(name):\n",
    "    filename = name + \".mtx\"\n",
    "    print(\"Processing %s\" % filename)\n",
    "\n",
    "    ss_tensor = SuiteSparseTensor(os.path.join(SS_PATH, filename))\n",
    "    tensor_coo, other_coo = inputCache.load(ss_tensor, True, False)\n",
    "\n",
    "    df = None\n",
    "    if not isinstance(ss_tensor, numpy.ndarray):\n",
    "        df = fiber_stats(ss_tensor, tensor_coo, other_coo)\n",
    "    return df"
   ]
  },
  {
   "cell_type": "code",
   "execution_count": 7,
   "id": "c031c404",
   "metadata": {},
   "outputs": [
    {
     "name": "stdout",
     "output_type": "stream",
     "text": [
      "Processing bcsstm02.mtx\n",
      "Getting fiber stats...\n",
      "Processing lp_scsd1.mtx\n",
      "Getting fiber stats...\n",
      "       name  dcsr0                                              dcsr1  dcsc0  \\\n",
      "0  bcsstm02     66  [1, 1, 1, 1, 1, 1, 1, 1, 1, 1, 1, 1, 1, 1, 1, ...     66   \n",
      "1  lp_scsd1     77  [24, 20, 24, 20, 24, 20, 24, 20, 24, 20, 24, 2...    760   \n",
      "\n",
      "                                               dcsc1  \n",
      "0  [1, 1, 1, 1, 1, 1, 1, 1, 1, 1, 1, 1, 1, 1, 1, ...  \n",
      "1  [2, 2, 2, 2, 2, 2, 2, 2, 2, 2, 4, 4, 4, 4, 4, ...  \n"
     ]
    }
   ],
   "source": [
    "matrices = ['bcsstm02', 'lp_scsd1']\n",
    "dfs = pd.DataFrame([run_mtx(x) for x in matrices])\n",
    "print(dfs)"
   ]
  },
  {
   "cell_type": "code",
   "execution_count": 8,
   "id": "d467edef",
   "metadata": {},
   "outputs": [
    {
     "data": {
      "text/plain": [
       "<AxesSubplot:>"
      ]
     },
     "execution_count": 8,
     "metadata": {},
     "output_type": "execute_result"
    },
    {
     "data": {
      "image/png": "[encoded data removed]",
      "text/plain": [
       "<Figure size 432x288 with 1 Axes>"
      ]
     },
     "metadata": {
      "needs_background": "light"
     },
     "output_type": "display_data"
    }
   ],
   "source": [
    "dfs['dcsr0'].hist()\n"
   ]
  },
  {
   "cell_type": "code",
   "execution_count": 9,
   "id": "c9755726",
   "metadata": {},
   "outputs": [
    {
     "data": {
      "text/plain": [
       "<AxesSubplot:>"
      ]
     },
     "execution_count": 9,
     "metadata": {},
     "output_type": "execute_result"
    },
    {
     "data": {
      "image/png": "[encoded data removed]",
      "text/plain": [
       "<Figure size 432x288 with 1 Axes>"
      ]
     },
     "metadata": {
      "needs_background": "light"
     },
     "output_type": "display_data"
    }
   ],
   "source": [
    "dfs['dcsr1'].hist()"
   ]
  },
  {
   "cell_type": "code",
   "execution_count": 10,
   "id": "95eeb70a",
   "metadata": {},
   "outputs": [
    {
     "data": {
      "text/plain": [
       "<AxesSubplot:>"
      ]
     },
     "execution_count": 10,
     "metadata": {},
     "output_type": "execute_result"
    },
    {
     "data": {
      "image/png": "[encoded data removed]",
      "text/plain": [
       "<Figure size 432x288 with 1 Axes>"
      ]
     },
     "metadata": {
      "needs_background": "light"
     },
     "output_type": "display_data"
    }
   ],
   "source": [
    "dfs['dcsc1'].hist()"
   ]
  },
  {
   "cell_type": "code",
   "execution_count": 11,
   "id": "b0d5ba3b",
   "metadata": {},
   "outputs": [],
   "source": [
    "def read_tensor_names(filename):\n",
    "    result = None\n",
    "    with open(filename, \"r\") as f:\n",
    "        result = f.read().splitlines()\n",
    "    return result"
   ]
  },
  {
   "cell_type": "markdown",
   "id": "be5f783d",
   "metadata": {},
   "source": [
    "# Small"
   ]
  },
  {
   "cell_type": "code",
   "execution_count": 30,
   "id": "669b2e70",
   "metadata": {
    "scrolled": true
   },
   "outputs": [
    {
     "name": "stdout",
     "output_type": "stream",
     "text": [
      "Processing Trec4.mtx\n",
      "Getting fiber stats...\n",
      "Processing rel3.mtx\n",
      "Getting fiber stats...\n",
      "Processing relat3.mtx\n",
      "Getting fiber stats...\n",
      "Processing cage3.mtx\n",
      "Getting fiber stats...\n",
      "Processing Trec5.mtx\n",
      "Getting fiber stats...\n",
      "Processing n3c4-b1.mtx\n",
      "Getting fiber stats...\n",
      "Processing b1_ss.mtx\n",
      "Getting fiber stats...\n",
      "Processing GL7d10.mtx\n",
      "Getting fiber stats...\n",
      "Processing cage4.mtx\n",
      "Getting fiber stats...\n",
      "Processing ch3-3-b1.mtx\n",
      "Getting fiber stats...\n",
      "Processing rel4.mtx\n",
      "Getting fiber stats...\n",
      "Processing klein-b1.mtx\n",
      "Getting fiber stats...\n",
      "Processing n3c5-b1.mtx\n",
      "Getting fiber stats...\n",
      "Processing relat4.mtx\n",
      "Getting fiber stats...\n",
      "Processing lpi_itest2.mtx\n",
      "Getting fiber stats...\n",
      "Processing Trec6.mtx\n",
      "Getting fiber stats...\n",
      "Processing LFAT5.mtx\n",
      "Getting fiber stats...\n",
      "Processing Maragal_1.mtx\n",
      "Getting fiber stats...\n",
      "Processing n3c4-b4.mtx\n",
      "Getting fiber stats...\n",
      "Processing n3c4-b2.mtx\n",
      "Getting fiber stats...\n",
      "Processing n3c6-b1.mtx\n",
      "Getting fiber stats...\n",
      "Processing n2c6-b1.mtx\n",
      "Getting fiber stats...\n",
      "Processing n4c5-b1.mtx\n",
      "Getting fiber stats...\n",
      "Processing kleemin.mtx\n",
      "Getting fiber stats...\n",
      "Processing ch4-4-b1.mtx\n",
      "Getting fiber stats...\n",
      "Processing farm.mtx\n",
      "Getting fiber stats...\n",
      "Processing lpi_itest6.mtx\n",
      "Getting fiber stats...\n",
      "Processing ch3-3-b2.mtx\n",
      "Getting fiber stats...\n",
      "Processing LF10.mtx\n",
      "Getting fiber stats...\n",
      "Processing Ragusa18.mtx\n",
      "Getting fiber stats...\n",
      "Processing Trefethen_20b.mtx\n",
      "Getting fiber stats...\n",
      "Processing n3c4-b3.mtx\n",
      "Getting fiber stats...\n",
      "Processing Ragusa16.mtx\n",
      "Getting fiber stats...\n",
      "Processing Trefethen_20.mtx\n",
      "Getting fiber stats...\n",
      "Processing football.mtx\n",
      "Getting fiber stats...\n",
      "Processing n4c6-b1.mtx\n",
      "Getting fiber stats...\n",
      "Processing ch5-5-b1.mtx\n",
      "Getting fiber stats...\n",
      "Processing ex5.mtx\n",
      "Getting fiber stats...\n",
      "Processing klein-b2.mtx\n",
      "Getting fiber stats...\n",
      "Processing pores_1.mtx\n",
      "Getting fiber stats...\n",
      "Processing GD01_c.mtx\n",
      "Getting fiber stats...\n",
      "Processing Hamrle1.mtx\n",
      "Getting fiber stats...\n",
      "Processing rel5.mtx\n",
      "Getting fiber stats...\n",
      "Processing relat5.mtx\n",
      "Getting fiber stats...\n",
      "Processing Trec7.mtx\n",
      "Getting fiber stats...\n",
      "Processing mk9-b1.mtx\n",
      "Getting fiber stats...\n",
      "Processing cage5.mtx\n",
      "Getting fiber stats...\n",
      "Processing lpi_bgprtr.mtx\n",
      "Getting fiber stats...\n",
      "Processing ch7-6-b1.mtx\n",
      "Getting fiber stats...\n",
      "Processing IG5-6.mtx\n",
      "Getting fiber stats...\n"
     ]
    }
   ],
   "source": [
    "small50 = read_tensor_names(\"suitesparse_valid_small50.txt\")\n",
    "small50_dfs = pd.DataFrame([run_mtx(x) for x in small50])"
   ]
  },
  {
   "cell_type": "markdown",
   "id": "3cf2a56b",
   "metadata": {},
   "source": [
    "IG5-6 is 30x77, nnz:251 and Trec4 is 2x3, nnz:3"
   ]
  },
  {
   "cell_type": "code",
   "execution_count": 49,
   "id": "6ca2ba3e",
   "metadata": {},
   "outputs": [
    {
     "data": {
      "text/plain": [
       "<AxesSubplot:>"
      ]
     },
     "execution_count": 49,
     "metadata": {},
     "output_type": "execute_result"
    },
    {
     "data": {
      "image/png": "[encoded data removed]",
      "text/plain": [
       "<Figure size 1080x504 with 2 Axes>"
      ]
     },
     "metadata": {
      "needs_background": "light"
     },
     "output_type": "display_data"
    }
   ],
   "source": [
    "fig, axs = plt.subplots(1,2, figsize=(15, 7))\n",
    "plt.yscale('log', nonpositive='clip')\n",
    "\n",
    "small50_dfs['dcsr0'].hist(ax=axs[0])\n",
    "small50_dfs['dcsr1'].hist(ax=axs[1])"
   ]
  },
  {
   "cell_type": "code",
   "execution_count": 50,
   "id": "513fa8ab",
   "metadata": {},
   "outputs": [
    {
     "data": {
      "text/plain": [
       "<AxesSubplot:>"
      ]
     },
     "execution_count": 50,
     "metadata": {},
     "output_type": "execute_result"
    },
    {
     "data": {
      "image/png": "[encoded data removed]",
      "text/plain": [
       "<Figure size 1080x504 with 2 Axes>"
      ]
     },
     "metadata": {
      "needs_background": "light"
     },
     "output_type": "display_data"
    }
   ],
   "source": [
    "fig, axs = plt.subplots(1,2, figsize=(15, 7))\n",
    "plt.yscale('log', nonpositive='clip')\n",
    "\n",
    "small50_dfs['dcsc0'].hist(ax=axs[0])\n",
    "small50_dfs['dcsc1'].hist(ax=axs[1])"
   ]
  },
  {
   "cell_type": "markdown",
   "id": "56466a90",
   "metadata": {},
   "source": [
    "# Mid 50"
   ]
  },
  {
   "cell_type": "code",
   "execution_count": 31,
   "id": "0cbc5a60",
   "metadata": {},
   "outputs": [
    {
     "name": "stdout",
     "output_type": "stream",
     "text": [
      "Processing adder_dcop_11.mtx\n",
      "Getting fiber stats...\n",
      "Processing adder_dcop_23.mtx\n",
      "Getting fiber stats...\n",
      "Processing adder_dcop_54.mtx\n",
      "Getting fiber stats...\n",
      "Processing adder_dcop_29.mtx\n",
      "Getting fiber stats...\n",
      "Processing adder_dcop_08.mtx\n",
      "Getting fiber stats...\n",
      "Processing adder_dcop_02.mtx\n",
      "Getting fiber stats...\n",
      "Processing adder_dcop_30.mtx\n",
      "Getting fiber stats...\n",
      "Processing adder_dcop_47.mtx\n",
      "Getting fiber stats...\n",
      "Processing adder_trans_02.mtx\n",
      "Getting fiber stats...\n",
      "Processing adder_trans_01.mtx\n",
      "Getting fiber stats...\n",
      "Processing ex3.mtx\n",
      "Getting fiber stats...\n",
      "Processing nasa1824.mtx\n",
      "Getting fiber stats...\n",
      "Processing spaceShuttleEntry_3.mtx\n",
      "Getting fiber stats...\n",
      "Processing watt_2.mtx\n",
      "Getting fiber stats...\n",
      "Processing watt_1.mtx\n",
      "Getting fiber stats...\n",
      "Processing lp_25fv47.mtx\n",
      "Getting fiber stats...\n",
      "Processing rajat12.mtx\n",
      "Getting fiber stats...\n",
      "Processing n4c5-b9.mtx\n",
      "Getting fiber stats...\n",
      "Processing qiulp.mtx\n",
      "Getting fiber stats...\n",
      "Processing progas.mtx\n",
      "Getting fiber stats...\n",
      "Processing CAG_mat1916.mtx\n",
      "Getting fiber stats...\n",
      "Processing plat1919.mtx\n",
      "Getting fiber stats...\n",
      "Processing bcsstm26.mtx\n",
      "Getting fiber stats...\n",
      "Processing bcsstk26.mtx\n",
      "Getting fiber stats...\n",
      "Processing Goodwin_013.mtx\n",
      "Getting fiber stats...\n",
      "Processing lp_maros.mtx\n",
      "Getting fiber stats...\n",
      "Processing N_biocarta.mtx\n",
      "Getting fiber stats...\n",
      "Processing G31.mtx\n",
      "Getting fiber stats...\n",
      "Processing G28.mtx\n",
      "Getting fiber stats...\n",
      "Processing G41.mtx\n",
      "Getting fiber stats...\n",
      "Processing G32.mtx\n",
      "Getting fiber stats...\n",
      "Processing bwm2000.mtx\n",
      "Getting fiber stats...\n",
      "Processing G42.mtx\n",
      "Getting fiber stats...\n",
      "Processing G40.mtx\n",
      "Getting fiber stats...\n",
      "Processing olm2000.mtx\n",
      "Getting fiber stats...\n",
      "Processing Trefethen_2000.mtx\n",
      "Getting fiber stats...\n",
      "Processing G29.mtx\n",
      "Getting fiber stats...\n",
      "Processing G30.mtx\n",
      "Getting fiber stats...\n",
      "Processing G34.mtx\n",
      "Getting fiber stats...\n",
      "Processing tols2000.mtx\n",
      "Getting fiber stats...\n",
      "Processing G27.mtx\n",
      "Getting fiber stats...\n",
      "Processing G33.mtx\n",
      "Getting fiber stats...\n",
      "Processing G39.mtx\n",
      "Getting fiber stats...\n",
      "Processing bcsstm13.mtx\n",
      "Getting fiber stats...\n",
      "Processing bcsstk13.mtx\n",
      "Getting fiber stats...\n",
      "Processing west2021.mtx\n",
      "Getting fiber stats...\n",
      "Processing piston.mtx\n",
      "Getting fiber stats...\n",
      "Processing M40PI_n1.mtx\n",
      "Getting fiber stats...\n",
      "Processing S40PI_n1.mtx\n",
      "Getting fiber stats...\n",
      "Processing dw1024.mtx\n",
      "Getting fiber stats...\n"
     ]
    }
   ],
   "source": [
    "mid50 = read_tensor_names(\"suitesparse_valid_mid50.txt\")\n",
    "mid50_dfs = pd.DataFrame([run_mtx(x) for x in mid50])"
   ]
  },
  {
   "cell_type": "markdown",
   "id": "2b56069a",
   "metadata": {},
   "source": [
    "adder_dcop_11 is 1813x1813 nnz: 11,243 and dw1024 is 2048x2048 nnz:10,114"
   ]
  },
  {
   "cell_type": "code",
   "execution_count": 37,
   "id": "e5a307b3",
   "metadata": {},
   "outputs": [
    {
     "data": {
      "text/plain": [
       "<AxesSubplot:>"
      ]
     },
     "execution_count": 37,
     "metadata": {},
     "output_type": "execute_result"
    },
    {
     "data": {
      "image/png": "[encoded data removed]",
      "text/plain": [
       "<Figure size 1080x504 with 2 Axes>"
      ]
     },
     "metadata": {
      "needs_background": "light"
     },
     "output_type": "display_data"
    }
   ],
   "source": [
    "fig, axs = plt.subplots(1,2, figsize=(15, 7))\n",
    "plt.yscale('log', nonpositive='clip')\n",
    "\n",
    "\n",
    "mid50_dfs['dcsr0'].hist(ax=axs[0])\n",
    "mid50_dfs['dcsr1'].hist(ax=axs[1])"
   ]
  },
  {
   "cell_type": "code",
   "execution_count": 38,
   "id": "2f456e75",
   "metadata": {},
   "outputs": [
    {
     "data": {
      "text/plain": [
       "<AxesSubplot:>"
      ]
     },
     "execution_count": 38,
     "metadata": {},
     "output_type": "execute_result"
    },
    {
     "data": {
      "image/png": "[encoded data removed]",
      "text/plain": [
       "<Figure size 1080x504 with 2 Axes>"
      ]
     },
     "metadata": {
      "needs_background": "light"
     },
     "output_type": "display_data"
    }
   ],
   "source": [
    "fig, axs = plt.subplots(1,2, figsize=(15, 7))\n",
    "plt.yscale('log', nonpositive='clip')\n",
    "\n",
    "\n",
    "mid50_dfs['dcsc0'].hist(ax=axs[0])\n",
    "mid50_dfs['dcsc1'].hist(ax=axs[1])"
   ]
  },
  {
   "cell_type": "markdown",
   "id": "eac41819",
   "metadata": {},
   "source": [
    "# Large"
   ]
  },
  {
   "cell_type": "code",
   "execution_count": 39,
   "id": "95404490",
   "metadata": {},
   "outputs": [
    {
     "name": "stdout",
     "output_type": "stream",
     "text": [
      "Processing TSOPF_FS_b162_c3.mtx\n",
      "Getting fiber stats...\n",
      "Processing testbig.mtx\n",
      "Getting fiber stats...\n",
      "Processing c-54.mtx\n",
      "Getting fiber stats...\n",
      "Processing helm3d01.mtx\n",
      "Getting fiber stats...\n",
      "Processing Goodwin_054.mtx\n",
      "Getting fiber stats...\n",
      "Processing vt2010.mtx\n",
      "Getting fiber stats...\n",
      "Processing scfxm1-2b.mtx\n",
      "Getting fiber stats...\n",
      "Processing car4.mtx\n",
      "Getting fiber stats...\n",
      "Processing lpl3.mtx\n",
      "Getting fiber stats...\n",
      "Processing sctap1-2b.mtx\n",
      "Getting fiber stats...\n",
      "Processing scsd8-2c.mtx\n",
      "Getting fiber stats...\n",
      "Processing scsd8-2b.mtx\n",
      "Getting fiber stats...\n",
      "Processing south31.mtx\n",
      "Getting fiber stats...\n",
      "Processing stormg2-27.mtx\n",
      "Getting fiber stats...\n",
      "Processing nsct.mtx\n",
      "Getting fiber stats...\n",
      "Processing lp_ken_13.mtx\n",
      "Getting fiber stats...\n",
      "Processing route.mtx\n",
      "Getting fiber stats...\n",
      "Processing dbir1.mtx\n",
      "Getting fiber stats...\n",
      "Processing dbir2.mtx\n",
      "Getting fiber stats...\n",
      "Processing ulevimin.mtx\n",
      "Getting fiber stats...\n",
      "Processing ts-palko.mtx\n",
      "Getting fiber stats...\n",
      "Processing rail516.mtx\n",
      "Getting fiber stats...\n",
      "Processing nemsemm2.mtx\n",
      "Getting fiber stats...\n",
      "Processing fome12.mtx\n",
      "Getting fiber stats...\n",
      "Processing lp_pds_10.mtx\n",
      "Getting fiber stats...\n",
      "Processing lp_osa_14.mtx\n",
      "Getting fiber stats...\n",
      "Processing rail582.mtx\n",
      "Getting fiber stats...\n",
      "Processing scsd8-2r.mtx\n",
      "Getting fiber stats...\n",
      "Processing rlfddd.mtx\n",
      "Getting fiber stats...\n",
      "Processing mk12-b5.mtx\n",
      "Getting fiber stats...\n",
      "Processing stat96v4.mtx\n",
      "Getting fiber stats...\n",
      "Processing sctap1-2r.mtx\n",
      "Getting fiber stats...\n",
      "Processing rail507.mtx\n",
      "Getting fiber stats...\n",
      "Processing n4c6-b12.mtx\n",
      "Getting fiber stats...\n",
      "Processing pltexpa.mtx\n",
      "Getting fiber stats...\n",
      "Processing lp_nug20.mtx\n",
      "Getting fiber stats...\n",
      "Processing lp_cre_d.mtx\n",
      "Getting fiber stats...\n",
      "Processing rlfdual.mtx\n",
      "Getting fiber stats...\n",
      "Processing nemsemm1.mtx\n",
      "Getting fiber stats...\n",
      "Processing lp_osa_30.mtx\n",
      "Getting fiber stats...\n",
      "Processing GL7d24.mtx\n",
      "Getting fiber stats...\n",
      "Processing EternityII_A.mtx\n",
      "Getting fiber stats...\n",
      "Processing stat96v1.mtx\n",
      "Getting fiber stats...\n",
      "Processing EternityII_Etilde.mtx\n",
      "Getting fiber stats...\n",
      "Processing lp_osa_60.mtx\n",
      "Getting fiber stats...\n",
      "Processing EternityII_E.mtx\n",
      "Getting fiber stats...\n",
      "Processing spal_004.mtx\n",
      "Getting fiber stats...\n",
      "Processing rail2586.mtx\n",
      "Getting fiber stats...\n",
      "Processing stat96v2.mtx\n",
      "Getting fiber stats...\n",
      "Processing rail4284.mtx\n",
      "Getting fiber stats...\n"
     ]
    }
   ],
   "source": [
    "large50 = read_tensor_names(\"suitesparse_valid_large50.txt\")\n",
    "large50_dfs = pd.DataFrame([run_mtx(x) for x in large50])"
   ]
  },
  {
   "cell_type": "code",
   "execution_count": 40,
   "id": "f5361b5a",
   "metadata": {},
   "outputs": [],
   "source": [
    "from pathlib import Path  \n",
    "filepath = Path('data/large50_fiber.csv')  \n",
    "filepath.parent.mkdir(parents=True, exist_ok=True)  \n",
    "large50_dfs.to_csv(filepath)  \n",
    "\n",
    "filepath = Path('data/mid50_fiber.csv')  \n",
    "filepath.parent.mkdir(parents=True, exist_ok=True)  \n",
    "mid50_dfs.to_csv(filepath)  \n",
    "\n",
    "filepath = Path('data/small50_fiber.csv')  \n",
    "filepath.parent.mkdir(parents=True, exist_ok=True)  \n",
    "small50_dfs.to_csv(filepath)  "
   ]
  },
  {
   "cell_type": "code",
   "execution_count": 44,
   "id": "39efc912",
   "metadata": {},
   "outputs": [],
   "source": [
    "filepath = Path('data/small50_fiber.csv')  \n",
    "small50_dfs_old = pd.read_csv(filepath)"
   ]
  },
  {
   "cell_type": "markdown",
   "id": "564bf2e3",
   "metadata": {},
   "source": [
    "rail4284 is 4,284x1,096,894 nnz:11,284,032 and TSOPF_FS_b162_c3 30,798x30,798 nnz: 1,801,300"
   ]
  },
  {
   "cell_type": "code",
   "execution_count": 41,
   "id": "acfb427b",
   "metadata": {},
   "outputs": [
    {
     "data": {
      "text/plain": [
       "<AxesSubplot:>"
      ]
     },
     "execution_count": 41,
     "metadata": {},
     "output_type": "execute_result"
    },
    {
     "data": {
      "image/png": "[encoded data removed]",
      "text/plain": [
       "<Figure size 1080x504 with 2 Axes>"
      ]
     },
     "metadata": {
      "needs_background": "light"
     },
     "output_type": "display_data"
    }
   ],
   "source": [
    "fig, axs = plt.subplots(1,2, figsize=(15, 7))\n",
    "plt.yscale('log', nonpositive='clip')\n",
    "\n",
    "\n",
    "large50_dfs['dcsr0'].hist(ax=axs[0])\n",
    "large50_dfs['dcsr1'].hist(ax=axs[1])"
   ]
  },
  {
   "cell_type": "code",
   "execution_count": 43,
   "id": "d22a8aa4",
   "metadata": {},
   "outputs": [
    {
     "data": {
      "text/plain": [
       "<AxesSubplot:>"
      ]
     },
     "execution_count": 43,
     "metadata": {},
     "output_type": "execute_result"
    },
    {
     "data": {
      "image/png": "[encoded data removed]",
      "text/plain": [
       "<Figure size 1080x504 with 2 Axes>"
      ]
     },
     "metadata": {
      "needs_background": "light"
     },
     "output_type": "display_data"
    }
   ],
   "source": [
    "fig, axs = plt.subplots(1,2, figsize=(15, 7))\n",
    "plt.yscale('log', nonpositive='clip')\n",
    "\n",
    "\n",
    "large50_dfs['dcsc0'].hist(ax=axs[0])\n",
    "large50_dfs['dcsc1'].hist(ax=axs[1])"
   ]
  },
  {
   "cell_type": "markdown",
   "id": "bac210d6",
   "metadata": {},
   "source": [
    "# Blocking SpMM ijk"
   ]
  },
  {
   "cell_type": "code",
   "execution_count": 71,
   "id": "0f3ab762",
   "metadata": {
    "scrolled": true
   },
   "outputs": [],
   "source": [
    "# Sizes are in elements. Each element is 2B\n",
    "def block_spmm_innerprod(b_csf, c_csf, tensor_name, glb_size=131072, memtile_size=1024):\n",
    "    print(\"Blocking spmm ijk (inner-prod) for\", tensor_name + \"...\")\n",
    "    print(b_csf.seg0)\n",
    "    print(c_csf.seg0)\n",
    "    \n",
    "    b_segi = b_csf.seg0\n",
    "    c_segj = c_csf.seg0\n",
    "    \n",
    "    curr_size = 0\n",
    "    tilei = dict()\n",
    "    tile_id = 0\n",
    "    for i in range(len(b_segi)-1):\n",
    "        fiber_size = b_segi[i+1] - b_segi[i]\n",
    "        if curr_size + fiber_size > memtile_size:\n",
    "            tilei[tile_id] = (i, curr_size)\n",
    "            tile_id += 1\n",
    "            curr_size = 0\n",
    "        curr_size += fiber_size\n",
    "        assert curr_size < memtile_size\n",
    "    \n",
    "    curr_size = 0\n",
    "    tilej = dict()\n",
    "    tile_id = 0\n",
    "    for i in range(len(c_segj)-1):\n",
    "        fiber_size = c_segj[i+1] - c_segj[i]\n",
    "        if curr_size + fiber_size > memtile_size:\n",
    "            tilej[tile_id] = (i, curr_size)\n",
    "            tile_id += 1\n",
    "            curr_size = 0\n",
    "        curr_size += fiber_size\n",
    "        assert curr_size < memtile_size\n",
    "\n",
    "def get_csf(name):\n",
    "    filename = name + \".mtx\"\n",
    "    print(\"Processing %s\" % filename)\n",
    "\n",
    "    ss_tensor = SuiteSparseTensor(os.path.join(SS_PATH, filename))\n",
    "    tensor_coo, other_coo = inputCache.load(ss_tensor, True, False)\n",
    "\n",
    "    dcsr = None\n",
    "    dcsc = None\n",
    "    result_dict = {}\n",
    "    if not isinstance(ss_tensor, numpy.ndarray):\n",
    "        formatWriter = FormatWriter(True)\n",
    "        dcsr = formatWriter.convert_format(tensor_coo, \"dcsr\")\n",
    "        dcsc = formatWriter.convert_format(other_coo, \"dcsc\")\n",
    "        result_dict['name'] = name\n",
    "        result_dict['b'] = dcsr\n",
    "        result_dict['c'] = dcsc\n",
    "    return result_dict"
   ]
  },
  {
   "cell_type": "code",
   "execution_count": null,
   "id": "0208f379",
   "metadata": {},
   "outputs": [],
   "source": [
    "\n",
    "matrices = ['bcsstm02', 'lp_scsd1']\n",
    "csf_list = [get_csf(x) for x in matrices]\n",
    "\n",
    "tname = 'bcsstm02'\n",
    "mat = csf_list[0]\n",
    "block_spmm_innerprod(mat['b'], mat['c'], tname)"
   ]
  },
  {
   "cell_type": "code",
   "execution_count": 159,
   "id": "5104140d",
   "metadata": {},
   "outputs": [],
   "source": [
    "# \n",
    "def locate(start, stop, crd, crd_arr):\n",
    "    return crd_arr[start, stop].find(crd)\n",
    "\n",
    "# Sizes are in elements. Each element is 2B\n",
    "def block_vecelemmul(b, c, tensor_name, glb_size=131072, memtile_size=1024):\n",
    "    print(\"Blocking vec elemmul for\", tensor_name + \"...\")\n",
    "    \n",
    "    b_segi = b[\"tensor_b_mode_0_seg\"]\n",
    "    c_segi = c[\"tensor_c_mode_0_seg\"]\n",
    "    b_crdi = b[\"tensor_b_mode_0_crd\"]\n",
    "    c_crdi = c[\"tensor_c_mode_0_crd\"]\n",
    "    print(b_segi)\n",
    "    \n",
    "    # Block to fit into GLB\n",
    "    assert b_segi[-1] < glb_size # Ignore for now\n",
    "    assert c_segi[-1] < glb_size # Ignore for now\n",
    "    \n",
    "    over_b = [0]*(len(b_segi) - 1)\n",
    "    over_c = [0]*(len(c_segi) - 1)\n",
    "    \n",
    "    # Block to fit into memtile\n",
    "    for i in range(len(b_segi)-1):\n",
    "        fiber_size = b_segi[i+1] - b_segi[i]\n",
    "        if fiber_size > memtile_size:\n",
    "            over_b[i] = 1\n",
    "    for i in range(len(c_segi)-1):\n",
    "        fiber_size = c_segi[i+1] - c_segi[i]\n",
    "        if fiber_size > memtile_size:\n",
    "            over_c[i] = 1\n",
    "    print(over_b, over_c)\n",
    "\n",
    "    memtile_tiles = {}\n",
    "    memtile_tile_id = 0\n",
    "    for i in range(len(over_b)):\n",
    "        if over_b[i] or over_c[i]:\n",
    "            # split b in half in position space (and c follows)\n",
    "            fiber_size_b = b_segi[i+1] - b_segi[i]\n",
    "            new_fiber_size_b = floor(fiber_size_b / 2)\n",
    "            b_segi = b_segi.insert(i, new_fiber_size_b)\n",
    "            b_coord = b_crdi[new_fiber_size_b]\n",
    "            new_c = locate(b_coord, c_crdi)\n",
    "            c_segi = c_segi.insert(i, new_c)\n",
    "        else:\n",
    "            memtile_tiles[memtile_tile_id] = (over_b[i], over_c[i])\n",
    "            memtile_tile_id += 1\n",
    "            \n",
    "    print()\n",
    "#     # Then add sizes\n",
    "    \n",
    "#     curr_size = 0\n",
    "#     memtile_tile_bi = dict()\n",
    "#     memtile_tile_id = 0\n",
    "    \n",
    "#     for i in range(len(b_segi)-1):\n",
    "#         fiber_size = b_segi[i+1] - b_segi[i]\n",
    "#         if curr_size + fiber_size > memtile_size:\n",
    "#             tilei[tile_id] = (i, curr_size)\n",
    "#             tile_id += 1\n",
    "#             curr_size = 0\n",
    "#         curr_size += fiber_size\n",
    "#         assert curr_size < memtile_size\n",
    "    \n",
    "#     curr_size = 0\n",
    "#     memtile_tile_ci = dict()\n",
    "#     memtile_tile_id = 0\n",
    "#     for i in range(len(c_segj)-1):\n",
    "#         fiber_size = c_segj[i+1] - c_segj[i]\n",
    "#         if curr_size + fiber_size > memtile_size:\n",
    "#             tilej[tile_id] = (i, curr_size)\n",
    "#             tile_id += 1\n",
    "#             curr_size = 0\n",
    "#         curr_size += fiber_size\n",
    "#         assert curr_size < memtile_size\n",
    "        \n",
    "#         glb_tile_ci = dict()\n",
    "#     glb_tile_id = 0\n",
    "\n",
    "def get_position(crd_arr, crd):\n",
    "    res = next(i for i, val in enumerate(crd_arr)\n",
    "                                  if val >= crd)\n",
    "    print(\"crd\", crd, \"res\", res, \"crd @ pos\", crd_arr[res], \"crd @ prevpos\", crd_arr[res-1])\n",
    "    return res\n",
    "    \n",
    "# Write file with block sizes\n",
    "def write_glb_triple(b, c, d, tensor_name, pack=True):\n",
    "    pass\n",
    "\n",
    "# Write file with block sizes\n",
    "def write_glb_double(b, c, tensor_name, pack=True):\n",
    "    pass\n",
    "\n",
    "def pack_single(b, glb_size, memtile_size):\n",
    "    # TODO: not implemented\n",
    "    return b\n",
    "    \n",
    "def process_glb_vecscalarmul(b, name, out_file, out_name, \n",
    "                             glb_size=131072, memtile_size=1024, memtile_crd_space=True, pack=True)\n",
    "    b_new = block_vvecscalarmul(b, name, glb_size, memtile_size, memtile_crd_space)\n",
    "    if pack:\n",
    "        b_new = pack_single(b_new, glb_size, memtile_size)\n",
    "    write_glb_single(b_new, out_file, out_name)\n",
    "    \n",
    "# Write file with block sizes\n",
    "def write_glb_single(b, out_file, out_name):\n",
    "    b_shape = b[\"shape\"]\n",
    "    b_segi = b[\"tensor_b_mode_0_seg\"]\n",
    "    b_crdi = b[\"tensor_b_mode_0_crd\"]\n",
    "    \n",
    "    \n",
    "    output_lines = []\n",
    "    \n",
    "    # TODO: may need to fix this later\n",
    "    assert len(b_segi) < memtile_size\n",
    "    output_lines.append(len(b_segi))\n",
    "    output_lines.append(b_segi)\n",
    "    \n",
    "    for i in range(len(b_segi)-1):\n",
    "        start_pos = b_segi[i]\n",
    "        stop_pos = b_segi[i+1]\n",
    "        fiber_size =  stop_pos - start_pos\n",
    "        output_lines.append(fiber_size)\n",
    "        for i in range(start_pos, stop_pos):\n",
    "            output_lines.append(b_crdi[i])\n",
    "        output_lines.append\n",
    "\n",
    "    out_path = f\"{out_dir}/{out_name}\"\n",
    "    with open(out_path, \"w+\") as curr_file:\n",
    "        curr_file.writelines(output_lines)\n",
    "\n",
    "    \n",
    "    \n",
    "# Sizes are in elements. Each element is 2B\n",
    "def block_vecscalarmul(b, tensor_name, glb_size=131072, memtile_size=1024, memtile_crd_space=True):\n",
    "    print(\"Blocking vec scalar mul for\", tensor_name + \"...\")\n",
    "    \n",
    "    b_shape = b[\"shape\"]\n",
    "    b_segi = b[\"tensor_b_mode_0_seg\"]\n",
    "    b_crdi = b[\"tensor_b_mode_0_crd\"]\n",
    "    print(b_segi)\n",
    "    \n",
    "    b_segi_new = []\n",
    "    \n",
    "    # Block to fit into GLB\n",
    "    assert b_segi[-1] < glb_size # Ignore for now\n",
    "    \n",
    "    \n",
    "    # If a fiber is too big, block that fiber into coordinates of 1024...\n",
    "    \n",
    "    # Loop through all of the fibers\n",
    "    for i in range(len(b_segi)-1):\n",
    "        start_pos = b_segi[i]\n",
    "        stop_pos = b_segi[i+1]\n",
    "        last_fiber = stop_pos >= len(b_crdi)\n",
    "        fiber_size =  stop_pos - start_pos\n",
    "        \n",
    "        # If fiber is too large\n",
    "        if fiber_size > memtile_size:\n",
    "            if last_fiber:\n",
    "                fiber = b_crdi[start_pos:]\n",
    "            else:\n",
    "                fiber = b_crdi[start_pos: stop_pos]\n",
    "            \n",
    "            if memtile_crd_space:\n",
    "                b_segi_new.append(start_pos)\n",
    "                print(fiber[0], fiber[-1])\n",
    "                print(fiber)\n",
    "                for crd in range(0, fiber[-1], memtile_size):\n",
    "                    pos = start_pos + get_position(fiber, crd)\n",
    "                    b_segi_new.append(pos)\n",
    "            else:\n",
    "                raise NotImplemented\n",
    "        else: \n",
    "            b_segi_new.append(stop_pos)\n",
    "            \n",
    "    b_segi_new.append(b_segi[i+1])\n",
    "    print(b_segi_new)\n",
    "    b_new = b.copy()\n",
    "    b_new[\"tensor_b_mode_0_seg\"] = b_segi_new\n",
    "    return b_new \n",
    "    \n",
    "def get_fiber_sizes(b):\n",
    "    result = []\n",
    "    b_shape = b[\"shape\"]\n",
    "    b_segi = b[\"tensor_b_mode_0_seg\"]\n",
    "    b_crdi = b[\"tensor_b_mode_0_crd\"]\n",
    "    \n",
    "    # Loop through all of the fibers\n",
    "    for i in range(len(b_segi)-1):\n",
    "        start_pos = b_segi[i]\n",
    "        stop_pos = b_segi[i+1]\n",
    "        last_fiber = stop_pos >= len(b_crdi)\n",
    "        fiber_size =  stop_pos - start_pos\n",
    "        result.append(fiber_size)\n",
    "    return result"
   ]
  },
  {
   "cell_type": "code",
   "execution_count": 160,
   "id": "ef545247",
   "metadata": {},
   "outputs": [],
   "source": [
    "from sam.onyx.generate_matrices import MatrixGenerator"
   ]
  },
  {
   "cell_type": "code",
   "execution_count": 161,
   "id": "4516015f",
   "metadata": {},
   "outputs": [],
   "source": [
    "b = MatrixGenerator(name=\"b\", shape=[5000], sparsity=0.5, format=\"CSF\")\n",
    "c = MatrixGenerator(name=\"c\", shape=[5000], sparsity=0.5, format=\"CSF\")\n",
    "b_arr = b.get_compressed_arrays()\n",
    "c_arr = c.get_compressed_arrays()\n",
    "\n"
   ]
  },
  {
   "cell_type": "code",
   "execution_count": 162,
   "id": "c6d04408",
   "metadata": {
    "scrolled": false
   },
   "outputs": [
    {
     "name": "stdout",
     "output_type": "stream",
     "text": [
      "sizes [2564]\n",
      "Blocking vec scalar mul for random...\n",
      "[0, 2564]\n",
      "1 4997\n",
      "[1, 3, 4, 5, 6, 7, 8, 11, 13, 16, 24, 25, 28, 29, 30, 39, 45, 46, 48, 49, 52, 55, 56, 59, 61, 62, 64, 68, 69, 70, 71, 72, 75, 77, 78, 80, 86, 89, 90, 91, 92, 97, 100, 105, 107, 108, 110, 115, 116, 117, 118, 121, 124, 126, 129, 130, 131, 132, 134, 137, 140, 143, 144, 145, 147, 148, 149, 151, 153, 155, 157, 160, 161, 163, 165, 168, 173, 181, 182, 183, 184, 188, 190, 192, 193, 196, 197, 198, 200, 204, 206, 208, 210, 211, 215, 216, 219, 220, 222, 223, 226, 231, 232, 233, 236, 237, 240, 242, 243, 246, 247, 248, 249, 252, 253, 255, 258, 259, 260, 261, 263, 265, 266, 267, 268, 270, 271, 272, 273, 275, 276, 277, 278, 280, 281, 283, 286, 287, 288, 289, 290, 295, 296, 297, 298, 301, 302, 304, 305, 306, 308, 310, 311, 312, 313, 314, 315, 320, 322, 324, 328, 329, 332, 333, 336, 338, 339, 341, 345, 346, 347, 349, 357, 358, 359, 360, 365, 368, 369, 371, 372, 373, 375, 381, 383, 384, 385, 387, 389, 390, 391, 392, 393, 394, 395, 396, 397, 398, 401, 402, 403, 404, 406, 408, 409, 410, 414, 415, 416, 417, 422, 424, 426, 429, 430, 431, 432, 436, 438, 441, 442, 443, 444, 450, 451, 453, 454, 456, 457, 463, 465, 467, 468, 469, 470, 474, 478, 479, 480, 481, 482, 485, 489, 492, 495, 498, 500, 501, 502, 504, 510, 511, 512, 513, 514, 516, 517, 520, 521, 522, 524, 527, 531, 535, 539, 543, 544, 545, 546, 550, 555, 556, 562, 564, 566, 567, 568, 569, 570, 572, 573, 574, 576, 579, 583, 584, 586, 587, 589, 590, 592, 594, 595, 596, 597, 598, 599, 600, 602, 603, 608, 609, 612, 614, 615, 617, 621, 622, 623, 626, 627, 628, 630, 632, 633, 634, 635, 637, 638, 641, 645, 646, 648, 653, 655, 656, 658, 663, 664, 666, 668, 671, 674, 677, 679, 681, 682, 685, 686, 688, 689, 690, 691, 694, 695, 700, 701, 704, 705, 708, 712, 713, 714, 715, 716, 717, 718, 719, 720, 724, 725, 726, 727, 729, 733, 734, 735, 736, 738, 739, 740, 742, 744, 745, 748, 750, 751, 752, 754, 756, 759, 767, 768, 769, 772, 773, 774, 775, 776, 778, 781, 783, 784, 789, 793, 794, 796, 797, 798, 805, 806, 808, 809, 810, 811, 812, 817, 818, 820, 823, 826, 828, 830, 836, 840, 843, 848, 849, 853, 854, 857, 859, 860, 861, 864, 866, 873, 875, 876, 878, 879, 880, 881, 882, 883, 884, 890, 893, 895, 898, 904, 906, 908, 909, 910, 911, 912, 915, 916, 918, 919, 923, 924, 925, 926, 927, 929, 931, 932, 933, 935, 936, 938, 939, 940, 941, 942, 947, 948, 949, 950, 951, 954, 956, 957, 958, 963, 964, 969, 971, 972, 974, 977, 978, 979, 981, 983, 984, 985, 987, 988, 990, 991, 992, 993, 998, 999, 1001, 1002, 1005, 1006, 1008, 1009, 1010, 1011, 1013, 1014, 1015, 1018, 1019, 1020, 1022, 1023, 1025, 1026, 1027, 1029, 1031, 1032, 1033, 1036, 1039, 1042, 1044, 1046, 1049, 1050, 1051, 1052, 1053, 1056, 1057, 1060, 1062, 1063, 1065, 1066, 1068, 1070, 1071, 1073, 1075, 1076, 1080, 1081, 1083, 1085, 1086, 1087, 1089, 1090, 1093, 1095, 1096, 1097, 1098, 1099, 1100, 1102, 1104, 1105, 1106, 1107, 1108, 1109, 1111, 1113, 1115, 1118, 1122, 1123, 1126, 1127, 1129, 1134, 1136, 1139, 1140, 1141, 1144, 1145, 1151, 1152, 1153, 1154, 1157, 1158, 1160, 1163, 1164, 1166, 1167, 1169, 1170, 1171, 1177, 1178, 1179, 1183, 1184, 1185, 1186, 1190, 1193, 1198, 1202, 1203, 1204, 1205, 1206, 1210, 1215, 1217, 1219, 1221, 1226, 1227, 1228, 1232, 1233, 1234, 1235, 1237, 1238, 1243, 1244, 1245, 1246, 1247, 1249, 1250, 1251, 1253, 1254, 1255, 1257, 1258, 1260, 1263, 1264, 1265, 1266, 1267, 1271, 1274, 1275, 1276, 1277, 1281, 1284, 1286, 1287, 1288, 1290, 1294, 1295, 1298, 1300, 1301, 1303, 1304, 1305, 1306, 1307, 1309, 1310, 1312, 1313, 1317, 1318, 1320, 1323, 1324, 1326, 1330, 1332, 1333, 1334, 1335, 1336, 1338, 1339, 1340, 1345, 1349, 1350, 1355, 1356, 1358, 1359, 1363, 1366, 1370, 1371, 1372, 1380, 1381, 1382, 1386, 1387, 1388, 1389, 1392, 1393, 1395, 1397, 1399, 1400, 1401, 1405, 1407, 1409, 1411, 1412, 1414, 1415, 1416, 1417, 1418, 1421, 1423, 1425, 1427, 1428, 1431, 1435, 1436, 1438, 1440, 1442, 1443, 1444, 1446, 1447, 1449, 1452, 1453, 1457, 1459, 1460, 1461, 1462, 1464, 1467, 1468, 1469, 1470, 1472, 1473, 1479, 1481, 1483, 1484, 1487, 1488, 1489, 1495, 1497, 1499, 1501, 1502, 1505, 1506, 1508, 1509, 1510, 1513, 1514, 1515, 1516, 1521, 1522, 1524, 1525, 1526, 1527, 1528, 1529, 1530, 1531, 1534, 1535, 1536, 1537, 1542, 1543, 1544, 1545, 1546, 1547, 1550, 1551, 1553, 1554, 1556, 1557, 1559, 1562, 1563, 1564, 1566, 1570, 1572, 1574, 1577, 1578, 1582, 1583, 1584, 1585, 1586, 1590, 1591, 1594, 1595, 1596, 1600, 1601, 1603, 1604, 1607, 1609, 1610, 1611, 1612, 1615, 1618, 1619, 1621, 1625, 1627, 1628, 1632, 1636, 1641, 1643, 1644, 1646, 1648, 1649, 1652, 1653, 1654, 1655, 1656, 1657, 1659, 1660, 1661, 1662, 1664, 1666, 1668, 1669, 1670, 1672, 1673, 1675, 1676, 1677, 1680, 1682, 1683, 1685, 1686, 1696, 1705, 1706, 1707, 1710, 1715, 1717, 1718, 1724, 1725, 1728, 1730, 1731, 1732, 1735, 1738, 1739, 1741, 1744, 1746, 1747, 1748, 1750, 1751, 1752, 1753, 1757, 1759, 1760, 1761, 1763, 1764, 1766, 1768, 1769, 1771, 1772, 1776, 1778, 1780, 1781, 1785, 1786, 1790, 1795, 1800, 1804, 1805, 1806, 1808, 1812, 1813, 1814, 1815, 1816, 1817, 1820, 1821, 1824, 1825, 1827, 1829, 1831, 1833, 1834, 1835, 1836, 1837, 1838, 1841, 1843, 1845, 1847, 1850, 1853, 1854, 1856, 1859, 1864, 1866, 1867, 1868, 1869, 1870, 1871, 1872, 1877, 1878, 1879, 1880, 1883, 1886, 1888, 1890, 1891, 1892, 1893, 1894, 1895, 1900, 1902, 1903, 1905, 1906, 1909, 1911, 1913, 1914, 1916, 1917, 1918, 1920, 1921, 1922, 1923, 1924, 1926, 1927, 1928, 1929, 1931, 1932, 1933, 1934, 1936, 1937, 1938, 1939, 1940, 1941, 1942, 1944, 1945, 1947, 1952, 1954, 1955, 1956, 1958, 1960, 1962, 1964, 1967, 1969, 1970, 1971, 1972, 1974, 1975, 1976, 1977, 1978, 1979, 1980, 1983, 1985, 1986, 1987, 1992, 1994, 1995, 1996, 1999, 2003, 2006, 2009, 2011, 2013, 2014, 2016, 2019, 2021, 2022, 2023, 2024, 2026, 2027, 2028, 2029, 2030, 2031, 2033, 2037, 2038, 2041, 2044, 2045, 2046, 2051, 2052, 2053, 2054, 2055, 2056, 2057, 2065, 2066, 2067, 2068, 2070, 2071, 2072, 2073, 2076, 2077, 2078, 2081, 2082, 2084, 2085, 2086, 2088, 2089, 2091, 2092, 2093, 2099, 2101, 2102, 2106, 2107, 2109, 2111, 2112, 2114, 2115, 2118, 2122, 2124, 2125, 2126, 2129, 2130, 2132, 2135, 2136, 2138, 2139, 2140, 2141, 2142, 2145, 2146, 2147, 2148, 2149, 2151, 2153, 2155, 2157, 2158, 2160, 2162, 2164, 2167, 2171, 2173, 2177, 2179, 2181, 2189, 2190, 2191, 2192, 2197, 2198, 2199, 2200, 2203, 2205, 2206, 2210, 2214, 2215, 2216, 2217, 2218, 2221, 2223, 2224, 2225, 2227, 2229, 2230, 2232, 2234, 2237, 2241, 2244, 2245, 2246, 2249, 2250, 2251, 2252, 2253, 2254, 2255, 2256, 2260, 2261, 2263, 2266, 2268, 2270, 2271, 2272, 2274, 2275, 2279, 2282, 2283, 2284, 2286, 2290, 2292, 2293, 2294, 2295, 2296, 2297, 2298, 2299, 2300, 2303, 2304, 2305, 2306, 2313, 2315, 2317, 2319, 2320, 2321, 2322, 2324, 2326, 2328, 2331, 2332, 2333, 2335, 2336, 2338, 2339, 2341, 2348, 2349, 2350, 2351, 2354, 2355, 2358, 2362, 2365, 2366, 2368, 2371, 2374, 2375, 2380, 2381, 2383, 2384, 2385, 2388, 2389, 2390, 2397, 2399, 2403, 2404, 2405, 2406, 2407, 2409, 2410, 2411, 2413, 2415, 2416, 2417, 2418, 2421, 2423, 2424, 2425, 2432, 2434, 2436, 2437, 2441, 2444, 2445, 2446, 2447, 2449, 2452, 2454, 2456, 2457, 2458, 2459, 2461, 2462, 2465, 2466, 2469, 2470, 2472, 2473, 2474, 2476, 2477, 2480, 2482, 2483, 2484, 2485, 2487, 2491, 2493, 2496, 2498, 2499, 2500, 2501, 2502, 2504, 2505, 2506, 2508, 2509, 2510, 2512, 2513, 2515, 2516, 2517, 2520, 2522, 2524, 2527, 2528, 2529, 2531, 2536, 2538, 2541, 2542, 2545, 2548, 2551, 2552, 2555, 2557, 2558, 2559, 2560, 2561, 2562, 2565, 2566, 2569, 2573, 2574, 2575, 2577, 2581, 2583, 2584, 2586, 2587, 2588, 2592, 2595, 2597, 2598, 2599, 2600, 2603, 2605, 2607, 2608, 2610, 2611, 2615, 2617, 2622, 2625, 2626, 2628, 2629, 2630, 2633, 2634, 2635, 2637, 2642, 2646, 2647, 2648, 2652, 2654, 2655, 2656, 2657, 2659, 2660, 2662, 2663, 2665, 2667, 2668, 2669, 2672, 2673, 2674, 2675, 2678, 2679, 2684, 2685, 2686, 2687, 2691, 2693, 2695, 2696, 2699, 2700, 2708, 2713, 2715, 2717, 2718, 2720, 2723, 2724, 2725, 2728, 2729, 2730, 2731, 2732, 2736, 2740, 2743, 2744, 2746, 2747, 2751, 2752, 2753, 2754, 2755, 2758, 2759, 2760, 2764, 2765, 2767, 2772, 2773, 2775, 2777, 2778, 2780, 2782, 2783, 2785, 2786, 2787, 2789, 2791, 2792, 2796, 2799, 2800, 2802, 2803, 2806, 2808, 2813, 2814, 2815, 2817, 2818, 2820, 2822, 2823, 2825, 2827, 2830, 2831, 2833, 2834, 2836, 2837, 2838, 2839, 2840, 2841, 2842, 2843, 2845, 2846, 2847, 2848, 2851, 2853, 2854, 2856, 2860, 2862, 2863, 2865, 2866, 2868, 2870, 2871, 2872, 2875, 2876, 2878, 2880, 2881, 2882, 2883, 2884, 2886, 2887, 2890, 2891, 2893, 2895, 2896, 2898, 2899, 2905, 2906, 2907, 2908, 2909, 2910, 2912, 2913, 2915, 2917, 2918, 2923, 2924, 2925, 2926, 2930, 2932, 2933, 2936, 2937, 2944, 2946, 2949, 2950, 2952, 2955, 2956, 2957, 2958, 2960, 2961, 2962, 2963, 2965, 2966, 2967, 2968, 2971, 2972, 2976, 2977, 2979, 2983, 2986, 2988, 2995, 2996, 2997, 3002, 3003, 3006, 3007, 3008, 3009, 3010, 3011, 3012, 3013, 3017, 3018, 3019, 3021, 3024, 3026, 3027, 3028, 3030, 3031, 3032, 3036, 3038, 3040, 3042, 3043, 3044, 3046, 3047, 3049, 3050, 3052, 3057, 3064, 3066, 3068, 3069, 3070, 3078, 3079, 3080, 3083, 3084, 3085, 3086, 3091, 3092, 3093, 3094, 3096, 3099, 3103, 3105, 3107, 3108, 3111, 3114, 3115, 3116, 3117, 3118, 3120, 3123, 3124, 3125, 3129, 3131, 3132, 3133, 3134, 3136, 3139, 3140, 3141, 3144, 3148, 3152, 3154, 3156, 3158, 3159, 3161, 3163, 3164, 3166, 3167, 3168, 3171, 3172, 3175, 3178, 3182, 3184, 3187, 3191, 3192, 3193, 3194, 3195, 3199, 3202, 3203, 3205, 3206, 3208, 3212, 3217, 3218, 3223, 3227, 3231, 3232, 3234, 3235, 3236, 3238, 3241, 3242, 3244, 3246, 3247, 3253, 3254, 3255, 3260, 3261, 3263, 3264, 3265, 3266, 3268, 3272, 3280, 3282, 3287, 3288, 3289, 3290, 3292, 3293, 3295, 3298, 3299, 3300, 3303, 3305, 3308, 3310, 3312, 3314, 3316, 3317, 3320, 3321, 3322, 3324, 3326, 3327, 3328, 3329, 3330, 3331, 3332, 3335, 3336, 3337, 3338, 3341, 3342, 3345, 3350, 3352, 3353, 3354, 3355, 3356, 3359, 3362, 3363, 3364, 3370, 3372, 3374, 3375, 3376, 3377, 3378, 3380, 3381, 3383, 3384, 3385, 3386, 3387, 3388, 3390, 3392, 3394, 3398, 3405, 3410, 3411, 3412, 3414, 3415, 3417, 3418, 3422, 3423, 3427, 3428, 3433, 3434, 3435, 3438, 3439, 3441, 3442, 3443, 3444, 3445, 3446, 3447, 3448, 3449, 3450, 3451, 3452, 3453, 3454, 3455, 3459, 3460, 3461, 3465, 3467, 3468, 3469, 3471, 3474, 3475, 3477, 3480, 3481, 3482, 3484, 3485, 3487, 3489, 3492, 3493, 3495, 3496, 3498, 3499, 3500, 3502, 3503, 3504, 3505, 3506, 3513, 3514, 3517, 3520, 3521, 3522, 3525, 3528, 3529, 3531, 3533, 3535, 3537, 3539, 3540, 3542, 3544, 3545, 3547, 3548, 3549, 3552, 3553, 3554, 3555, 3556, 3559, 3560, 3561, 3562, 3563, 3564, 3568, 3570, 3573, 3578, 3579, 3585, 3586, 3589, 3590, 3591, 3592, 3594, 3595, 3596, 3597, 3599, 3603, 3604, 3606, 3610, 3612, 3614, 3615, 3616, 3617, 3619, 3622, 3624, 3625, 3626, 3628, 3630, 3634, 3635, 3637, 3639, 3641, 3644, 3646, 3648, 3650, 3653, 3656, 3657, 3662, 3664, 3667, 3668, 3670, 3678, 3679, 3681, 3682, 3684, 3685, 3688, 3689, 3691, 3692, 3694, 3695, 3697, 3698, 3699, 3702, 3703, 3705, 3706, 3708, 3711, 3713, 3714, 3715, 3719, 3722, 3723, 3725, 3726, 3727, 3728, 3729, 3730, 3732, 3738, 3742, 3746, 3748, 3750, 3751, 3753, 3754, 3756, 3759, 3766, 3770, 3771, 3773, 3774, 3776, 3778, 3783, 3784, 3786, 3788, 3794, 3796, 3798, 3799, 3800, 3801, 3802, 3804, 3808, 3812, 3813, 3814, 3815, 3816, 3818, 3819, 3823, 3828, 3830, 3833, 3834, 3835, 3837, 3839, 3842, 3843, 3844, 3846, 3848, 3849, 3850, 3852, 3857, 3859, 3863, 3865, 3871, 3875, 3876, 3877, 3878, 3879, 3881, 3882, 3883, 3885, 3886, 3888, 3889, 3890, 3891, 3892, 3893, 3894, 3897, 3898, 3900, 3901, 3902, 3903, 3905, 3912, 3915, 3916, 3924, 3927, 3928, 3930, 3931, 3936, 3938, 3939, 3942, 3944, 3945, 3948, 3951, 3955, 3956, 3957, 3960, 3963, 3965, 3966, 3967, 3970, 3974, 3976, 3979, 3980, 3981, 3982, 3984, 3985, 3987, 3990, 3991, 3996, 3998, 3999, 4000, 4001, 4002, 4003, 4004, 4007, 4009, 4010, 4011, 4014, 4015, 4018, 4020, 4024, 4031, 4032, 4033, 4034, 4037, 4040, 4041, 4042, 4043, 4045, 4046, 4047, 4048, 4049, 4050, 4052, 4055, 4057, 4058, 4059, 4060, 4061, 4062, 4064, 4065, 4067, 4069, 4072, 4076, 4077, 4078, 4083, 4084, 4086, 4088, 4089, 4090, 4091, 4093, 4097, 4098, 4100, 4103, 4104, 4105, 4108, 4109, 4110, 4111, 4112, 4114, 4115, 4116, 4117, 4119, 4120, 4121, 4123, 4125, 4126, 4128, 4129, 4130, 4136, 4137, 4138, 4139, 4140, 4141, 4142, 4145, 4146, 4149, 4151, 4153, 4154, 4158, 4160, 4161, 4162, 4165, 4166, 4167, 4169, 4170, 4172, 4174, 4176, 4177, 4180, 4181, 4182, 4183, 4186, 4187, 4191, 4192, 4198, 4199, 4200, 4204, 4206, 4207, 4210, 4212, 4214, 4215, 4217, 4219, 4220, 4221, 4223, 4224, 4225, 4226, 4227, 4228, 4230, 4231, 4232, 4234, 4235, 4240, 4242, 4243, 4244, 4247, 4250, 4252, 4253, 4254, 4255, 4256, 4257, 4258, 4261, 4262, 4264, 4272, 4275, 4276, 4278, 4281, 4283, 4284, 4285, 4286, 4288, 4291, 4293, 4294, 4295, 4296, 4298, 4300, 4303, 4305, 4307, 4308, 4310, 4313, 4316, 4321, 4322, 4326, 4327, 4330, 4331, 4332, 4334, 4335, 4337, 4340, 4341, 4342, 4343, 4344, 4345, 4347, 4348, 4349, 4351, 4352, 4353, 4355, 4356, 4357, 4358, 4359, 4363, 4364, 4367, 4368, 4370, 4371, 4374, 4377, 4378, 4383, 4389, 4391, 4393, 4396, 4399, 4402, 4403, 4404, 4411, 4416, 4420, 4423, 4425, 4426, 4428, 4430, 4431, 4432, 4433, 4435, 4436, 4439, 4441, 4447, 4448, 4449, 4455, 4457, 4458, 4461, 4465, 4466, 4470, 4471, 4472, 4473, 4475, 4478, 4480, 4482, 4483, 4485, 4486, 4490, 4491, 4493, 4497, 4499, 4503, 4504, 4505, 4508, 4511, 4512, 4515, 4516, 4519, 4521, 4524, 4525, 4526, 4527, 4528, 4530, 4531, 4532, 4533, 4534, 4535, 4537, 4538, 4541, 4542, 4546, 4547, 4548, 4550, 4551, 4552, 4553, 4554, 4556, 4557, 4558, 4559, 4560, 4563, 4564, 4565, 4571, 4572, 4573, 4578, 4580, 4581, 4582, 4584, 4586, 4587, 4592, 4593, 4594, 4601, 4603, 4605, 4606, 4607, 4609, 4611, 4615, 4616, 4617, 4619, 4620, 4624, 4628, 4630, 4631, 4634, 4636, 4639, 4640, 4641, 4644, 4645, 4648, 4651, 4652, 4656, 4657, 4658, 4659, 4660, 4661, 4663, 4666, 4668, 4669, 4671, 4673, 4675, 4676, 4678, 4679, 4682, 4685, 4686, 4687, 4690, 4691, 4692, 4694, 4697, 4698, 4701, 4706, 4707, 4708, 4715, 4716, 4718, 4721, 4723, 4724, 4725, 4726, 4727, 4729, 4731, 4732, 4733, 4735, 4742, 4743, 4744, 4746, 4747, 4748, 4752, 4754, 4756, 4757, 4758, 4759, 4761, 4762, 4765, 4768, 4769, 4774, 4775, 4778, 4779, 4780, 4781, 4782, 4785, 4787, 4788, 4790, 4791, 4792, 4793, 4794, 4795, 4796, 4797, 4798, 4800, 4803, 4807, 4808, 4813, 4814, 4815, 4816, 4817, 4818, 4819, 4820, 4821, 4822, 4828, 4830, 4831, 4832, 4833, 4835, 4838, 4841, 4842, 4845, 4846, 4848, 4853, 4854, 4855, 4858, 4860, 4863, 4864, 4868, 4869, 4875, 4879, 4880, 4881, 4882, 4884, 4885, 4886, 4887, 4888, 4889, 4892, 4896, 4898, 4900, 4901, 4903, 4904, 4906, 4908, 4909, 4912, 4916, 4920, 4927, 4928, 4929, 4932, 4934, 4935, 4936, 4941, 4942, 4943, 4946, 4947, 4948, 4949, 4950, 4951, 4953, 4954, 4958, 4960, 4963, 4965, 4967, 4969, 4970, 4971, 4981, 4983, 4984, 4989, 4990, 4991, 4992, 4994, 4997]\n",
      "crd 1025 res 513 crd @ pos 1025 crd @ prevpos 1023\n",
      "crd 2049 res 1053 crd @ pos 2051 crd @ prevpos 2046\n",
      "crd 3073 res 1590 crd @ pos 3078 crd @ prevpos 3070\n",
      "crd 4097 res 2102 crd @ pos 4097 crd @ prevpos 4093\n",
      "[0, 513, 1053, 1590, 2102, 2564]\n",
      "new sizes [513, 540, 537, 512, 462]\n"
     ]
    }
   ],
   "source": [
    "print(\"sizes\", get_fiber_sizes(b_arr))\n",
    "b_arr_new = block_vecscalarmul(b_arr, \"random\")\n",
    "print(\"new sizes\", get_fiber_sizes(b_arr_new))\n",
    "\n"
   ]
  },
  {
   "cell_type": "code",
   "execution_count": null,
   "id": "955f715e",
   "metadata": {},
   "outputs": [],
   "source": []
  },
  {
   "cell_type": "code",
   "execution_count": null,
   "id": "4d9c45a6",
   "metadata": {},
   "outputs": [],
   "source": []
  }
 ],
 "metadata": {
  "kernelspec": {
   "display_name": "Python 3 (ipykernel)",
   "language": "python",
   "name": "python3"
  },
  "language_info": {
   "codemirror_mode": {
    "name": "ipython",
    "version": 3
   },
   "file_extension": ".py",
   "mimetype": "text/x-python",
   "name": "python",
   "nbconvert_exporter": "python",
   "pygments_lexer": "ipython3",
   "version": "3.8.12"
  }
 },
 "nbformat": 4,
 "nbformat_minor": 5
}
